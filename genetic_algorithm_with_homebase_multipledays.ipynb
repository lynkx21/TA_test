{
 "cells": [
  {
   "cell_type": "code",
   "execution_count": 77,
   "metadata": {
    "collapsed": true
   },
   "outputs": [],
   "source": [
    "import pandas as pd\n",
    "import numpy as np\n",
    "import random"
   ]
  },
  {
   "cell_type": "code",
   "execution_count": 78,
   "metadata": {
    "collapsed": false
   },
   "outputs": [],
   "source": [
    "waypoint_distances = {}\n",
    "waypoint_durations = {}\n",
    "all_waypoints = set()\n",
    "\n",
    "waypoint_data = pd.read_csv(\"my-waypoints-dist-dur.tsv\", sep=\"\\t\", encoding=\"ISO-8859-1\")\n",
    "\n",
    "for i, row in waypoint_data.iterrows():\n",
    "    waypoint_distances[frozenset([row.waypoint1, row.waypoint2])] = row.distance_m\n",
    "    waypoint_durations[frozenset([row.waypoint1, row.waypoint2])] = row.duration_s\n",
    "    all_waypoints.update([row.waypoint1, row.waypoint2])"
   ]
  },
  {
   "cell_type": "code",
   "execution_count": 79,
   "metadata": {
    "collapsed": false
   },
   "outputs": [],
   "source": [
    "homebase = 'Gronnegata 11, Oslo'"
   ]
  },
  {
   "cell_type": "code",
   "execution_count": 80,
   "metadata": {
    "collapsed": false
   },
   "outputs": [],
   "source": [
    "# my_tuple = ('Nobels gate 32, Oslo', 'Bygdoy, Oslo, Oslo', 'Huk Aveny 35, Oslo', \n",
    "#             'Kongeveien 5, Oslo', 'nan, Oslo', 'Bygdoeynesveien 39, Oslo', 'Museumsveien 10, Oslo',\n",
    "#             'Universitetsgaten 13 (city centre), Oslo', 'Kirsten Flagstads Pl. 1, Oslo')\n",
    "# new_tupla = (homebase,) + my_tuple\n",
    "# print(new_tupla)"
   ]
  },
  {
   "cell_type": "code",
   "execution_count": 93,
   "metadata": {
    "collapsed": false
   },
   "outputs": [
    {
     "name": "stdout",
     "output_type": "stream",
     "text": [
      "0\n",
      "ciao\n",
      "ciao\n",
      "True\n",
      "\n",
      "1\n",
      "b\n",
      "ciao\n",
      "False\n",
      "\n",
      "2\n",
      "c\n",
      "ciao\n",
      "False\n",
      "\n",
      "3\n",
      "ciao\n",
      "ciao\n",
      "True\n",
      "\n",
      "4\n",
      "d\n",
      "ciao\n",
      "False\n",
      "\n",
      "5\n",
      "e\n",
      "ciao\n",
      "False\n",
      "\n"
     ]
    }
   ],
   "source": [
    "a = ('ciao',)\n",
    "b = a + ('b', 'c') + a + ('d', 'e')\n",
    "\n",
    "for index in range(len(b)):\n",
    "    print(index)\n",
    "    print(b[index])\n",
    "    print(a[0])\n",
    "    print(b[index] == a[0])\n",
    "    print()"
   ]
  },
  {
   "cell_type": "code",
   "execution_count": 95,
   "metadata": {
    "collapsed": false
   },
   "outputs": [],
   "source": [
    "def compute_fitness(homebase, solution, pop_index):\n",
    "    \"\"\"\n",
    "        This function returns the total distance traveled on the current road trip.\n",
    "\n",
    "        The genetic algorithm will favor road trips that have shorter\n",
    "        total distances traveled.\n",
    "    \"\"\"\n",
    "\n",
    "    # solution_fitness = 0.0\n",
    "    solution_fitness1 = 0.0\n",
    "    solution_fitness2 = 0.0\n",
    "    solution = (homebase,) + solution[:pop_index] + (homebase,) + solution[pop_index:]\n",
    "\n",
    "    for index in range(len(solution)):\n",
    "        waypoint1 = solution[index - 1]\n",
    "        waypoint2 = solution[index]\n",
    "        # solution_fitness += waypoint_distances[frozenset([waypoint1, waypoint2])]\n",
    "        \n",
    "        # new decision function:\n",
    "        if index < int(len(solution)/2):\n",
    "            solution_fitness1 += waypoint_distances[frozenset([waypoint1, waypoint2])]\n",
    "        else:\n",
    "            solution_fitness2 += waypoint_distances[frozenset([waypoint1, waypoint2])]\n",
    "            \n",
    "    solution_fitness = np.sqrt(solution_fitness1 + solution_fitness2) + np.power(np.abs(solution_fitness1 - solution_fitness2), 2/3)\n",
    "\n",
    "    return solution_fitness"
   ]
  },
  {
   "cell_type": "code",
   "execution_count": 82,
   "metadata": {
    "collapsed": true
   },
   "outputs": [],
   "source": [
    "def generate_random_agent(homebase):\n",
    "    \"\"\"\n",
    "        Creates a random road trip from the waypoints.\n",
    "    \"\"\"\n",
    "\n",
    "    new_random_agent = list(all_waypoints)\n",
    "    new_random_agent.remove(homebase)\n",
    "    random.shuffle(new_random_agent)\n",
    "    return tuple(new_random_agent)"
   ]
  },
  {
   "cell_type": "code",
   "execution_count": 83,
   "metadata": {
    "collapsed": true
   },
   "outputs": [],
   "source": [
    "def mutate_agent(agent_genome, max_mutations=3):\n",
    "    \"\"\"\n",
    "        Applies 1 - `max_mutations` point mutations to the given road trip.\n",
    "\n",
    "        A point mutation swaps the order of two waypoints in the road trip.\n",
    "    \"\"\"\n",
    "\n",
    "    agent_genome = list(agent_genome)\n",
    "    num_mutations = random.randint(1, max_mutations)\n",
    "\n",
    "    for mutation in range(num_mutations):\n",
    "        swap_index1 = random.randint(0, len(agent_genome) - 1)\n",
    "        swap_index2 = swap_index1\n",
    "\n",
    "        while swap_index1 == swap_index2:\n",
    "            swap_index2 = random.randint(0, len(agent_genome) - 1)\n",
    "\n",
    "        agent_genome[swap_index1], agent_genome[swap_index2] = agent_genome[swap_index2], agent_genome[swap_index1]\n",
    "\n",
    "    return tuple(agent_genome)"
   ]
  },
  {
   "cell_type": "code",
   "execution_count": 84,
   "metadata": {
    "collapsed": true
   },
   "outputs": [],
   "source": [
    "def shuffle_mutation(agent_genome):\n",
    "    \"\"\"\n",
    "        Applies a single shuffle mutation to the given road trip.\n",
    "\n",
    "        A shuffle mutation takes a random sub-section of the road trip\n",
    "        and moves it to another location in the road trip.\n",
    "    \"\"\"\n",
    "\n",
    "    agent_genome = list(agent_genome)\n",
    "\n",
    "    start_index = random.randint(0, len(agent_genome) - 1)\n",
    "    length = random.randint(2, 20)\n",
    "\n",
    "    genome_subset = agent_genome[start_index:start_index + length]\n",
    "    agent_genome = agent_genome[:start_index] + agent_genome[start_index + length:]\n",
    "\n",
    "    insert_index = random.randint(0, len(agent_genome) + len(genome_subset) - 1)\n",
    "    agent_genome = agent_genome[:insert_index] + genome_subset + agent_genome[insert_index:]\n",
    "\n",
    "    return tuple(agent_genome)"
   ]
  },
  {
   "cell_type": "code",
   "execution_count": 85,
   "metadata": {
    "collapsed": true
   },
   "outputs": [],
   "source": [
    "def generate_random_population(homebase, pop_size):\n",
    "    \"\"\"\n",
    "        Generates a list with `pop_size` number of random road trips.\n",
    "    \"\"\"\n",
    "\n",
    "    random_population = []\n",
    "    for agent in range(pop_size):\n",
    "        random_population.append(generate_random_agent(homebase))\n",
    "    return random_population"
   ]
  },
  {
   "cell_type": "code",
   "execution_count": 96,
   "metadata": {
    "collapsed": true
   },
   "outputs": [],
   "source": [
    "def run_genetic_algorithm(generations=5000, population_size=100):\n",
    "    \"\"\"\n",
    "        The core of the Genetic Algorithm.\n",
    "\n",
    "        `generations` and `population_size` must be a multiple of 10.\n",
    "    \"\"\"\n",
    "\n",
    "    population_subset_size = int(population_size / 10.)\n",
    "    generations_10pct = int(generations / 10.)\n",
    "    pop_half_ss = int(population_subset_size/2)\n",
    "    print(population_subset_size)\n",
    "\n",
    "    # Create a random population of `population_size` number of solutions.\n",
    "    population = generate_random_population(homebase, population_size)\n",
    "    # print(population)\n",
    "\n",
    "    # For `generations` number of repetitions...\n",
    "    for generation in range(generations):\n",
    "\n",
    "        # Compute the fitness of the entire current population\n",
    "        population_fitness = {}\n",
    "\n",
    "        for agent_genome in population:\n",
    "            if agent_genome in population_fitness:\n",
    "                continue\n",
    "\n",
    "            population_fitness[agent_genome] = compute_fitness(homebase, agent_genome, pop_half_ss)\n",
    "\n",
    "        # Take the top 10% shortest road trips and produce offspring each from them\n",
    "        new_population = []\n",
    "        for rank, agent_genome in enumerate(sorted(population_fitness,\n",
    "                                                   key=population_fitness.get)[:population_subset_size]):\n",
    "\n",
    "            if (generation % generations_10pct == 0 or generation == generations - 1) and rank == 0:\n",
    "                print(\"Generation %d best: %d | Unique genomes: %d\" % (generation,\n",
    "                                                                       population_fitness[agent_genome],\n",
    "                                                                       len(population_fitness)))\n",
    "                # complete_agent_genome = (homebase,) + agent_genome\n",
    "                complete_agent_genome = (homebase,) + agent_genome[:pop_half_ss] + (homebase,) + agent_genome[pop_half_ss:]\n",
    "                print(complete_agent_genome)\n",
    "                print(\"\")\n",
    "\n",
    "            # Create 1 exact copy of each of the top road trips\n",
    "            new_population.append(agent_genome)\n",
    "\n",
    "            # Create 2 offspring with 1-3 point mutations\n",
    "            for offspring in range(2):\n",
    "                new_population.append(mutate_agent(agent_genome, 3))\n",
    "\n",
    "            # Create 7 offspring with a single shuffle mutation\n",
    "            for offspring in range(7):\n",
    "                new_population.append(shuffle_mutation(agent_genome))\n",
    "\n",
    "        # Replace the old population with the new population of offspring\n",
    "        for i in range(len(population))[::-1]:\n",
    "            del population[i]\n",
    "\n",
    "        population = new_population"
   ]
  },
  {
   "cell_type": "code",
   "execution_count": 97,
   "metadata": {
    "collapsed": false,
    "scrolled": false
   },
   "outputs": [
    {
     "name": "stdout",
     "output_type": "stream",
     "text": [
      "10\n",
      "Generation 0 best: 243 | Unique genomes: 100\n",
      "('Gronnegata 11, Oslo', 'Toeyengata 53, Oslo', 'Astrup Fearnley Museet, Oslo', 'Kirsten Flagstads Pl. 1, Oslo', 'Sognsveien 235, Oslo', 'Bygdoeynesveien 39, Oslo', 'Gronnegata 11, Oslo', 'Fridtjof Nansens plass, Oslo', 'Kjelsaasveien 143, Oslo', 'Nobels gate 32, Oslo', 'Det Kongelige Slott, Oslo', 'Myntgata 5, Oslo')\n",
      "\n",
      "Generation 500 best: 205 | Unique genomes: 76\n",
      "('Gronnegata 11, Oslo', 'Bygdoeynesveien 39, Oslo', 'Nobels gate 32, Oslo', 'Toeyengata 53, Oslo', 'Kirsten Flagstads Pl. 1, Oslo', 'Det Kongelige Slott, Oslo', 'Gronnegata 11, Oslo', 'Kjelsaasveien 143, Oslo', 'Sognsveien 235, Oslo', 'Astrup Fearnley Museet, Oslo', 'Myntgata 5, Oslo', 'Fridtjof Nansens plass, Oslo')\n",
      "\n",
      "Generation 1000 best: 198 | Unique genomes: 70\n",
      "('Gronnegata 11, Oslo', 'Sognsveien 235, Oslo', 'Kjelsaasveien 143, Oslo', 'Toeyengata 53, Oslo', 'Astrup Fearnley Museet, Oslo', 'Myntgata 5, Oslo', 'Gronnegata 11, Oslo', 'Kirsten Flagstads Pl. 1, Oslo', 'Nobels gate 32, Oslo', 'Bygdoeynesveien 39, Oslo', 'Fridtjof Nansens plass, Oslo', 'Det Kongelige Slott, Oslo')\n",
      "\n",
      "Generation 1500 best: 198 | Unique genomes: 71\n",
      "('Gronnegata 11, Oslo', 'Kirsten Flagstads Pl. 1, Oslo', 'Nobels gate 32, Oslo', 'Bygdoeynesveien 39, Oslo', 'Fridtjof Nansens plass, Oslo', 'Det Kongelige Slott, Oslo', 'Gronnegata 11, Oslo', 'Sognsveien 235, Oslo', 'Kjelsaasveien 143, Oslo', 'Toeyengata 53, Oslo', 'Astrup Fearnley Museet, Oslo', 'Myntgata 5, Oslo')\n",
      "\n",
      "Generation 2000 best: 198 | Unique genomes: 68\n",
      "('Gronnegata 11, Oslo', 'Sognsveien 235, Oslo', 'Kjelsaasveien 143, Oslo', 'Toeyengata 53, Oslo', 'Astrup Fearnley Museet, Oslo', 'Myntgata 5, Oslo', 'Gronnegata 11, Oslo', 'Fridtjof Nansens plass, Oslo', 'Bygdoeynesveien 39, Oslo', 'Nobels gate 32, Oslo', 'Kirsten Flagstads Pl. 1, Oslo', 'Det Kongelige Slott, Oslo')\n",
      "\n",
      "Generation 2500 best: 198 | Unique genomes: 64\n",
      "('Gronnegata 11, Oslo', 'Sognsveien 235, Oslo', 'Kjelsaasveien 143, Oslo', 'Toeyengata 53, Oslo', 'Astrup Fearnley Museet, Oslo', 'Myntgata 5, Oslo', 'Gronnegata 11, Oslo', 'Fridtjof Nansens plass, Oslo', 'Bygdoeynesveien 39, Oslo', 'Nobels gate 32, Oslo', 'Kirsten Flagstads Pl. 1, Oslo', 'Det Kongelige Slott, Oslo')\n",
      "\n",
      "Generation 3000 best: 198 | Unique genomes: 70\n",
      "('Gronnegata 11, Oslo', 'Sognsveien 235, Oslo', 'Kjelsaasveien 143, Oslo', 'Toeyengata 53, Oslo', 'Astrup Fearnley Museet, Oslo', 'Myntgata 5, Oslo', 'Gronnegata 11, Oslo', 'Fridtjof Nansens plass, Oslo', 'Bygdoeynesveien 39, Oslo', 'Nobels gate 32, Oslo', 'Kirsten Flagstads Pl. 1, Oslo', 'Det Kongelige Slott, Oslo')\n",
      "\n",
      "Generation 3500 best: 198 | Unique genomes: 72\n",
      "('Gronnegata 11, Oslo', 'Sognsveien 235, Oslo', 'Kjelsaasveien 143, Oslo', 'Toeyengata 53, Oslo', 'Astrup Fearnley Museet, Oslo', 'Myntgata 5, Oslo', 'Gronnegata 11, Oslo', 'Fridtjof Nansens plass, Oslo', 'Bygdoeynesveien 39, Oslo', 'Nobels gate 32, Oslo', 'Kirsten Flagstads Pl. 1, Oslo', 'Det Kongelige Slott, Oslo')\n",
      "\n",
      "Generation 4000 best: 198 | Unique genomes: 78\n",
      "('Gronnegata 11, Oslo', 'Sognsveien 235, Oslo', 'Kjelsaasveien 143, Oslo', 'Toeyengata 53, Oslo', 'Astrup Fearnley Museet, Oslo', 'Myntgata 5, Oslo', 'Gronnegata 11, Oslo', 'Kirsten Flagstads Pl. 1, Oslo', 'Nobels gate 32, Oslo', 'Bygdoeynesveien 39, Oslo', 'Fridtjof Nansens plass, Oslo', 'Det Kongelige Slott, Oslo')\n",
      "\n",
      "Generation 4500 best: 198 | Unique genomes: 64\n",
      "('Gronnegata 11, Oslo', 'Kirsten Flagstads Pl. 1, Oslo', 'Nobels gate 32, Oslo', 'Bygdoeynesveien 39, Oslo', 'Fridtjof Nansens plass, Oslo', 'Det Kongelige Slott, Oslo', 'Gronnegata 11, Oslo', 'Sognsveien 235, Oslo', 'Kjelsaasveien 143, Oslo', 'Toeyengata 53, Oslo', 'Astrup Fearnley Museet, Oslo', 'Myntgata 5, Oslo')\n",
      "\n",
      "Generation 4999 best: 198 | Unique genomes: 63\n",
      "('Gronnegata 11, Oslo', 'Sognsveien 235, Oslo', 'Kjelsaasveien 143, Oslo', 'Toeyengata 53, Oslo', 'Astrup Fearnley Museet, Oslo', 'Myntgata 5, Oslo', 'Gronnegata 11, Oslo', 'Kirsten Flagstads Pl. 1, Oslo', 'Nobels gate 32, Oslo', 'Bygdoeynesveien 39, Oslo', 'Fridtjof Nansens plass, Oslo', 'Det Kongelige Slott, Oslo')\n",
      "\n"
     ]
    }
   ],
   "source": [
    "run_genetic_algorithm(generations=5000, population_size=100)"
   ]
  }
 ],
 "metadata": {
  "anaconda-cloud": {},
  "kernelspec": {
   "display_name": "Python [conda root]",
   "language": "python",
   "name": "conda-root-py"
  },
  "language_info": {
   "codemirror_mode": {
    "name": "ipython",
    "version": 3
   },
   "file_extension": ".py",
   "mimetype": "text/x-python",
   "name": "python",
   "nbconvert_exporter": "python",
   "pygments_lexer": "ipython3",
   "version": "3.5.2"
  }
 },
 "nbformat": 4,
 "nbformat_minor": 0
}
